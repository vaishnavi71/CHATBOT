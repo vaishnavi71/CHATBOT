{
 "metadata": {
  "language_info": {
   "codemirror_mode": {
    "name": "ipython",
    "version": 3
   },
   "file_extension": ".py",
   "mimetype": "text/x-python",
   "name": "python",
   "nbconvert_exporter": "python",
   "pygments_lexer": "ipython3",
   "version": "3.7.7-final"
  },
  "orig_nbformat": 2,
  "kernelspec": {
   "name": "python_defaultSpec_1595746019499",
   "display_name": "Python 3.7.7 64-bit ('tensorflow': conda)"
  }
 },
 "nbformat": 4,
 "nbformat_minor": 2,
 "cells": [
  {
   "cell_type": "code",
   "execution_count": 13,
   "metadata": {},
   "outputs": [],
   "source": [
    "from tkinter import *\n",
    "root = Tk()"
   ]
  },
  {
   "cell_type": "code",
   "execution_count": 14,
   "metadata": {},
   "outputs": [],
   "source": [
    "def send():\n",
    "    send = \"you:\"+a.get()\n",
    "    text.insert(END,\"\\n\"+send)\n",
    "    if(a.get()== 'hi'):\n",
    "        text.insert(END,\"\\n\"+\"Bot:hello\")\n",
    "    elif(a.get() == 'can we know about DR'):\n",
    "        text.insert(END,\"\\n\"+\"Bot:Diabetic retinopathy often leads to diabetic macular edema (DME), causing swelling in the macula, the part of the eye responsible for clearly seeing objects directly in front of us.\")\n",
    "    elif(a.get() == 'What are basic diet to be followed to prevent it:'):\n",
    "        text.insert(END,\"\\n\"+\"Bot:Meat/fish/poultry/tofu/eggs/nuts – Quarter of a plate,Breads/starch/grains – Quarter of a plate for one serving (can be increased to two servings), Dairy (Skimmed/low-fat/fat-free) – One small cup or one coffee cup,Fruit –Half cup dessert dish or one small cup\")\n",
    "    elif(a.get() == 'Who are most likely to get DR disease'):\n",
    "        text.insert(END,\"\\n\"+\"Bot:Being overweight\"+'\\n'+\"Family history of diabetes or high blood sugar\"+\"An unhealthy diet\"+\n",
    "    \"Physical inactivity\"+\n",
    "    \"Old age\"+\n",
    "    \"High blood pressure\"+\n",
    "    \"Ethnicity\"+\n",
    "    \"Impaired glucose tolerance\"+\n",
    "    \"History of gestational diabetes\"+\n",
    "    \"Poor nutrition or diet\")\n",
    "    else:\n",
    "        text.insert(END,\"\\n\"+\"Bot:I didnt get you\")\n",
    "text = Text(root,bg = 'white')\n",
    "text.grid(row=0,column=0,columnspan=2)\n",
    "a = Entry(root,width=400,height = 500)\n",
    "send=Button(root,text='Send',bg='white',width=20,command=send).grid(row=1,column=1)\n",
    "a.grid(row=1,column=1)\n",
    "root.title(\"DR Chat Session\")\n",
    "root.mainloop()"
   ]
  },
  {
   "cell_type": "code",
   "execution_count": null,
   "metadata": {},
   "outputs": [],
   "source": []
  }
 ]
}